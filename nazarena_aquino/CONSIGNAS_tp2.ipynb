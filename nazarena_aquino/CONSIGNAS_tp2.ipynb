{
 "cells": [
  {
   "cell_type": "markdown",
   "metadata": {},
   "source": [
    "# Criterios de evaluación.\n",
    "\n",
    "* Se deben utilizar nombres de variables descriptivos y claros.\n",
    "* Cada ejercicio debe ser realizado utilizando **FUNCIONES**, NO solo codigo suelto.\n",
    "* Comentarios claros y concisos que expliquen el propósito de cada sección del código.\n",
    "* Entrega en tiempo y forma.\n",
    "* Todo el código desarrollado debe ser subido a un repositorio en GitHub.\n",
    "\n",
    "\n",
    "**Aclaración: Para resolver las actividades se debe incertar casillas de codigo entre cada actividad del cuaderno de Jupyter**"
   ]
  },
  {
   "cell_type": "markdown",
   "metadata": {},
   "source": [
    "### 1. **Bucles**\n",
    "\n",
    "   - **Actividad 1.1**: Escribir un programa que muestre el print de todo lo que el usuario introduzca hasta que el usuario escriba “salir” que terminará.\n",
    "   \n",
    "   - **Actividad 1.2**: Escribir un programa que pida al usuario un número entero y muestre por pantalla un triángulo rectángulo como el de más abajo con la cantidad de escalones indicados previamente (los numeros dentro del triangulo deben ser enteros aleatorios del 0 al 9).\n",
    "* 1\n",
    "* 3 1\n",
    "* 5 3 1\n",
    "* 7 5 3 1\n",
    "* 9 7 5 3 1"
   ]
  },
  {
   "cell_type": "code",
   "execution_count": null,
   "metadata": {},
   "outputs": [
    {
     "name": "stdout",
     "output_type": "stream",
     "text": [
      "holis\n",
      "como estas\n",
      "todo bien?\n"
     ]
    }
   ],
   "source": [
    "\n",
    "# todo: Resolución\n",
    "# ! 1\n",
    "# se crea un bucle infinito\n",
    "while True:\n",
    "    texto = input(\"Escribi cualquier cosa o 'salir' para terminar\")\n",
    "    if texto.lower() == \"salir\":\n",
    "        break     #si el usuario escribe salir sin importar mayusculas y minusculas, el programa se detiene\n",
    "    print(texto)\n",
    "\n"
   ]
  },
  {
   "cell_type": "code",
   "execution_count": null,
   "metadata": {},
   "outputs": [
    {
     "name": "stdout",
     "output_type": "stream",
     "text": [
      "6 \n",
      "0 5 \n",
      "8 9 5 \n",
      "4 2 5 7 \n",
      "4 3 5 2 0 \n",
      "6 7 0 0 9 1 \n"
     ]
    }
   ],
   "source": [
    "\n",
    "# todo: resolución\n",
    "# ! 2\n",
    "import random\n",
    "\n",
    "def triangulo():\n",
    "    # Pedimos al usuario un numero entero\n",
    "    escalones = int(input(\"¿Cuantos escalones queres que tenga el triangulo? \"))\n",
    "\n",
    "    # Generamos el triangulo\n",
    "    for i in range(1, escalones + 1):      #cuantas filas tendra el triangulo\n",
    "        for j in range(i):                 #imprime la cantidad de numeros correspondiente a la fila actual\n",
    "            numero = random.randint(0, 9)  # Numero aleatorio del 0 al 9\n",
    "            print(numero, end=\" \")         # Imprime en la misma linea con espacio\n",
    "        print()  # Salto de linea despues de cada fila\n",
    "\n",
    "# Llamo a la funcion para que se ejecute\n",
    "triangulo()\n",
    "\n",
    "\n"
   ]
  },
  {
   "cell_type": "markdown",
   "metadata": {},
   "source": [
    "### 2. **Listas y Tuplas**\n",
    "\n",
    "   - **Actividad 1**: Escribir un programa que pida al usuario una frase y muestre por pantalla el número de veces que contiene cada vocal y la cantidad de espacios en blanco.\n",
    "\n",
    "   - **Actividad 2**: Escribir un programa que cree una matriz (con numeros aleatorios del 1 al 100) usando las dimensiones de X e Y que el usuario deberia ingresar por consola, luego crea una tupla con la matriz transpuesta y por ultimo las muestra ambas por consola .\n",
    "\n",
    "   - **Actividad 3**: Escribir un programa que almacene en una lista los siguientes precios, 50, 75, 46, 22, 80, 65, 8, y muestre por pantalla el menor y el mayor de los precios"
   ]
  },
  {
   "cell_type": "code",
   "execution_count": 7,
   "metadata": {},
   "outputs": [
    {
     "name": "stdout",
     "output_type": "stream",
     "text": [
      "a: 2\n",
      "e: 2\n",
      "i: 0\n",
      "o: 0\n",
      "u: 1\n",
      "Espacios en blanco: 1\n"
     ]
    }
   ],
   "source": [
    "\n",
    "# todo: Resolución\n",
    "\n",
    "# ! 1\n",
    "\n",
    "def contar_vocales_y_espacios():\n",
    "    frase = input(\"Escribi una frase: \").lower()  # Convierto a minusculas para contar\n",
    "\n",
    "    # Creo una lista con las vocales\n",
    "    vocales = ['a', 'e', 'i', 'o', 'u']\n",
    "\n",
    "    # Cuento cada vocal\n",
    "    for vocal in vocales:\n",
    "        print(f\"{vocal}: {frase.count(vocal)}\")\n",
    "\n",
    "    # Cuento los espacios en blanco\n",
    "    espacios = frase.count(\" \")\n",
    "    print(f\"Espacios en blanco: {espacios}\")\n",
    "\n",
    "# Llamo a la funcion\n",
    "contar_vocales_y_espacios()\n"
   ]
  },
  {
   "cell_type": "code",
   "execution_count": null,
   "metadata": {},
   "outputs": [
    {
     "name": "stdout",
     "output_type": "stream",
     "text": [
      "\n",
      "Matriz original:\n",
      "[82, 8, 64]\n",
      "[16, 38, 90]\n",
      "[2, 54, 31]\n",
      "[58, 82, 37]\n",
      "\n",
      "Matriz transpuesta:\n",
      "(82, 16, 2, 58)\n",
      "(8, 38, 54, 82)\n",
      "(64, 90, 31, 37)\n"
     ]
    }
   ],
   "source": [
    "\n",
    "# todo: Resolución\n",
    "\n",
    "# ! 2\n",
    "import random\n",
    "\n",
    "def matriz_transpuesta():\n",
    "    # se pide dimensiones al usuario\n",
    "    filas = int(input(\"Ingresa la cantidad de filas (X): \"))\n",
    "    columnas = int(input(\"Ingresa la cantidad de columnas (Y): \"))\n",
    "\n",
    "    # creo la matriz con numeros aleatorios del 1 al 100\n",
    "    matriz = [[random.randint(1, 100) for i in range(columnas)] for i in range(filas)]\n",
    "\n",
    "    # transponemos la matriz y se guarda como tupla\n",
    "    transpuesta = tuple(zip(*matriz))\n",
    "\n",
    "    # se muestra la matriz original\n",
    "    print(\"\\nMatriz original:\")\n",
    "    for fila in matriz:\n",
    "        print(fila)\n",
    "\n",
    "    # se muestra la transpuesta\n",
    "    print(\"\\nMatriz transpuesta:\")\n",
    "    for fila in transpuesta:\n",
    "        print(fila)\n",
    "\n",
    "# llamo a la funcion\n",
    "matriz_transpuesta()\n"
   ]
  },
  {
   "cell_type": "code",
   "execution_count": null,
   "metadata": {},
   "outputs": [
    {
     "name": "stdout",
     "output_type": "stream",
     "text": [
      "Precio menor:  8\n",
      "Precio mayor:  80\n"
     ]
    }
   ],
   "source": [
    "\n",
    "# todo: Resolución\n",
    "\n",
    "# ! 3\n",
    "def mostrar_precios():\n",
    "    precios = [50, 75, 46, 22, 80, 65, 8]\n",
    "\n",
    "    menor = min(precios)  #encuentra el valor mas bajo\n",
    "    mayor = max(precios)  #encuentra el valor mas alto\n",
    "\n",
    "    print(\"Precio menor: \", menor)\n",
    "    print(\"Precio mayor: \", mayor)\n",
    "\n",
    "# llamo a la funcion\n",
    "mostrar_precios()\n"
   ]
  },
  {
   "cell_type": "markdown",
   "metadata": {},
   "source": [
    "### 3. **Diccionarios**\n",
    "\n",
    "   - **Actividad 1**: Escribir un programa que cree un diccionario simulando una cesta de la compra. El programa debe preguntar el artículo y su precio y añadir el par al diccionario, hasta que el usuario decida terminar. Después se debe mostrar por pantalla la lista de la compra y el coste total, con el siguiente formato.\n",
    "\n",
    "   | arts  |precio |\n",
    "   |-------|-------|\n",
    "   |art 1  |1      |\n",
    "   |art 2  |2      |\n",
    "   |art 3  |3      |\n",
    "   |total  |6      |\n",
    "\n",
    "   - **Actividad 2**: Escribir un programa que cree un diccionario de traducción español-inglés. El usuario introducirá las palabras en español e inglés separadas por dos puntos, y cada par <palabra> : <traducción> separados por comas (es decir, solo se debe usar **UNA VEZ** la función input para la carga de palabras). El programa debe crear un diccionario con las palabras y sus traducciones. Después pedirá una frase en español y utilizará el diccionario para traducirla palabra a palabra. Si una palabra no está en el diccionario debe dejarla sin traducir.\n",
    "\n",
    "   - **Actividad 3**: Escribir un programa que reciba una cadena de caracteres y devuelva un diccionario con cada palabra que contiene y su frecuencia. Escribir otra función que reciba el diccionario generado con la función anterior y devuelva una tupla con la palabra más repetida y su frecuencia."
   ]
  },
  {
   "cell_type": "code",
   "execution_count": 11,
   "metadata": {},
   "outputs": [
    {
     "name": "stdout",
     "output_type": "stream",
     "text": [
      "\n",
      "| arts    | precio |\n",
      "|---------|--------|\n",
      "| cuaderno | 2500.00 |\n",
      "| birome  | 1200.00 |\n",
      "| total   | 3700.00  |\n"
     ]
    }
   ],
   "source": [
    "\n",
    "# todo: Resolución\n",
    "\n",
    "# ! 1\n",
    "def cesta_compra():\n",
    "    # se crea una cesta vacia para guardar los articulos y sus precios\n",
    "    cesta = {}\n",
    "\n",
    "    # se crea un bucle para pedir articulos y precios hasta que el usuario escriba \"fin\"\n",
    "    while True:\n",
    "        articulo = input(\"Ingresa el nombre del articulo (o escribi 'fin' para terminar): \")\n",
    "        if articulo.lower() == \"fin\":  # Si escribe \"fin\", se corta el bucle\n",
    "            break\n",
    "        precio = float(input(f\"Ingresa el precio de '{articulo}': \"))  # Convertimos el precio a numero decimal\n",
    "        cesta[articulo] = precio  # Guardamos el articulo y su precio en la cesta\n",
    "\n",
    "    # Calculamos el total sumando todos los precios\n",
    "    total = sum(cesta.values())\n",
    "\n",
    "    # Mostramos la tabla de articulos con sus precios\n",
    "    print(\"\\n| arts    | precio |\")\n",
    "    print(\"|---------|--------|\")\n",
    "    for art, precio in cesta.items():\n",
    "        print(f\"| {art:<7} | {precio:<6.2f} |\")  # Imprimimos cada articulo con su precio\n",
    "\n",
    "    # Mostramos el total final\n",
    "    print(\"| total   | {:.2f}  |\".format(total))\n",
    "\n",
    "# Llamo a la funcion\n",
    "cesta_compra()\n"
   ]
  },
  {
   "cell_type": "code",
   "execution_count": 1,
   "metadata": {},
   "outputs": [
    {
     "name": "stdout",
     "output_type": "stream",
     "text": [
      "Frase traducida: hello house\n"
     ]
    }
   ],
   "source": [
    "\n",
    "# todo: Resolución\n",
    "\n",
    "# ! 2\n",
    "def traductor():\n",
    "    # Pedimos todas las traducciones\n",
    "    entrada = input(\"Ingresa traducciones en formato palabra:traduccion, separadas por comas (ej: hola:hello, casa:house): \")\n",
    "\n",
    "    # Creamos el diccionario\n",
    "    traducciones = {}\n",
    "    pares = entrada.split(\",\")  # Separamos cada par por coma\n",
    "    for par in pares:\n",
    "        if \":\" in par:  # Verifica si el string contiene \":\"\n",
    "            esp, eng = par.strip().split(\":\")   # Separa el string en dos partes (antes y despues de \":\")\n",
    "            traducciones[esp.strip()] = eng.strip()  # Agrega la traducción al diccionario\n",
    "\n",
    "    # Pedimos una frase en español\n",
    "    frase = input(\"Ingresa una frase en español: \")\n",
    "    palabras = frase.split()\n",
    "\n",
    "    # Traducimos palabra por palabra\n",
    "    traducida = []\n",
    "    for palabra in palabras:\n",
    "        # Usamos get para buscar la traduccion, si no esta deja la palabra original\n",
    "        traducida.append(traducciones.get(palabra, palabra))\n",
    "\n",
    "    # Mostramos la frase traducida\n",
    "    print(\"Frase traducida:\", \" \".join(traducida))\n",
    "\n",
    "\n",
    "# Llamo a la funcion\n",
    "traductor()\n",
    "\n",
    "\n",
    "\n",
    "\n"
   ]
  },
  {
   "cell_type": "code",
   "execution_count": null,
   "metadata": {},
   "outputs": [],
   "source": [
    "\n",
    "# todo: Resolución\n",
    "\n",
    "# ! 3\n",
    "def contar_palabras(texto):\n",
    "    # Separamos el texto en palabras\n",
    "    palabras = texto.split()\n",
    "\n",
    "    # Creamos un diccionario para guardar la frecuencia de cada palabra\n",
    "    frecuencias = {}\n",
    "\n",
    "    # Contamos cuantas veces aparece cada palabra\n",
    "    for palabra in palabras:\n",
    "        if palabra in frecuencias:\n",
    "            frecuencias[palabra] += 1\n",
    "        else:\n",
    "            frecuencias[palabra] = 1\n",
    "\n",
    "    return frecuencias\n",
    "\n",
    "def palabra_mas_repetida(diccionario):\n",
    "    # Buscamos la palabra con la frecuencia mas alta\n",
    "    palabra = max(diccionario, key=diccionario.get)\n",
    "    return (palabra, diccionario[palabra])\n",
    "\n",
    "\n",
    "texto = input(\"Escribi una frase: \")\n",
    "frecuencias = contar_palabras(texto)\n",
    "resultado = palabra_mas_repetida(frecuencias)\n",
    "\n",
    "print(\"\\nFrecuencias:\", frecuencias)\n",
    "print(\"Palabra mas repetida:\", resultado)"
   ]
  },
  {
   "cell_type": "markdown",
   "metadata": {},
   "source": [
    "### 4. **Funciones**\n",
    "\n",
    "- **Actividad 1**: Escribir una función que calcule el total de una factura tras aplicarle el IVA. La función debe recibir la cantidad sin IVA y el porcentaje de IVA a aplicar, y devolver el total de la factura. Si se invoca la función sin pasarle el porcentaje de IVA, deberá aplicar un 21%.\n",
    "\n",
    "- **Actividad 2**: Escribir una función que reciba un número entero positivo y devuelva su factorial.\n"
   ]
  },
  {
   "cell_type": "code",
   "execution_count": null,
   "metadata": {},
   "outputs": [
    {
     "name": "stdout",
     "output_type": "stream",
     "text": [
      "Total con IVA: 3025.0\n"
     ]
    }
   ],
   "source": [
    "\n",
    "# todo: Resolución\n",
    "\n",
    "# ! 1\n",
    "def calcular_iva(cantidad, iva=21):\n",
    "    total = cantidad + (cantidad * iva / 100)   # Calcula el total sumando el IVA al monto original\n",
    "    return total\n",
    "\n",
    "# Pide al usuario que ingrese un monto sin IVA\n",
    "monto = float(input(\"Ingresá el monto sin IVA: \"))\n",
    "# Imprime el total con IVA\n",
    "print(\"Total con IVA:\", calcular_iva(monto))\n"
   ]
  },
  {
   "cell_type": "code",
   "execution_count": null,
   "metadata": {},
   "outputs": [
    {
     "name": "stdout",
     "output_type": "stream",
     "text": [
      "El factorial es: 120\n"
     ]
    }
   ],
   "source": [
    "\n",
    "# todo: Resolución\n",
    "\n",
    "# ! 2\n",
    "def calcular_factorial(n):\n",
    "    resultado = 1\n",
    "    # Recorre los numeros del 1 hasta 'n'\n",
    "    for i in range(1, n + 1):\n",
    "        # Multiplica el resultado actual por el valor de 'i' en cada iteracion\n",
    "        resultado *= i\n",
    "    return resultado  # Devuelve el resultado final, que es el factorial de 'n'\n",
    "\n",
    "\n",
    "numero = int(input(\"Ingresa un numero entero positivo: \"))\n",
    "print(\"El factorial es:\", calcular_factorial(numero))\n"
   ]
  }
 ],
 "metadata": {
  "kernelspec": {
   "display_name": "nazarena_aquino",
   "language": "python",
   "name": "python3"
  },
  "language_info": {
   "codemirror_mode": {
    "name": "ipython",
    "version": 3
   },
   "file_extension": ".py",
   "mimetype": "text/x-python",
   "name": "python",
   "nbconvert_exporter": "python",
   "pygments_lexer": "ipython3",
   "version": "3.12.9"
  }
 },
 "nbformat": 4,
 "nbformat_minor": 2
}
